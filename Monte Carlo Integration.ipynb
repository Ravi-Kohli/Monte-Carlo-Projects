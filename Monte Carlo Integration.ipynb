{
 "cells": [
  {
   "cell_type": "code",
   "execution_count": 2,
   "metadata": {},
   "outputs": [],
   "source": [
    "# importing the necessary modules\n",
    "import numpy as np\n",
    "import matplotlib.pyplot as plt\n",
    "import scipy\n",
    "%matplotlib inline"
   ]
  },
  {
   "cell_type": "markdown",
   "metadata": {},
   "source": [
    "# Brief Introduction to Monte Carlo Integration"
   ]
  },
  {
   "cell_type": "markdown",
   "metadata": {},
   "source": [
    "From calulus, we know that the average of a function $f$, over a given interval, is defined as:\n",
    "\n",
    "$$ \\overline{f}= \\frac{1}{b - a} \\int_{a}^{b} f(t) dt $$\n",
    "\n",
    "However, for a computation, we are unable to deal with an infinite number of calculations, so we will need to discretise this average calculation as:\n",
    "\n",
    "$$ \\overline{f} = \\frac{1}{N} \\sum_{i = 1}^{N} f(t_i) $$\n",
    "\n",
    "and Monte Carlo integration is about calculating the integral by using the following:\n",
    "\n",
    "$$ (b - a) \\times \\frac{1}{N} \\sum_{i = 1}^{N} f(t_i) \\approx \\int_{a}^{b} f(t) dt $$"
   ]
  },
  {
   "cell_type": "markdown",
   "metadata": {},
   "source": [
    "For the first example, we are going to integrate $ f(t) = \\cos{t} $ from $0$ to $\\frac{\\pi}{2} $, and we know that the answer should equal 1"
   ]
  },
  {
   "cell_type": "code",
   "execution_count": 56,
   "metadata": {},
   "outputs": [],
   "source": [
    "# the first step is to initialise some parameters\n",
    "\n",
    "# the limits of our integration\n",
    "b = np.pi / 2\n",
    "a = 0\n",
    "\n",
    "# the number of points we want to use\n",
    "N = 5000"
   ]
  },
  {
   "cell_type": "code",
   "execution_count": 57,
   "metadata": {},
   "outputs": [],
   "source": [
    "# getting our list of random values of t\n",
    "t_random = scipy.random.uniform(a,b,N)"
   ]
  },
  {
   "cell_type": "code",
   "execution_count": 58,
   "metadata": {},
   "outputs": [],
   "source": [
    "# defining the function\n",
    "def fn(x):\n",
    "    return np.cos(x)"
   ]
  },
  {
   "cell_type": "code",
   "execution_count": 59,
   "metadata": {},
   "outputs": [
    {
     "data": {
      "text/plain": [
       "0.9950641961084514"
      ]
     },
     "execution_count": 59,
     "metadata": {},
     "output_type": "execute_result"
    }
   ],
   "source": [
    "# doing the summation step\n",
    "sum(fn(t_random))/N * (b - a)"
   ]
  },
  {
   "cell_type": "markdown",
   "metadata": {},
   "source": [
    "As we can see that the above answer is not too far off from the real answer. Now, what if repeated the above process for a large number of times and made a histogram of the calculations"
   ]
  },
  {
   "cell_type": "code",
   "execution_count": 67,
   "metadata": {},
   "outputs": [],
   "source": [
    "def monte_carlo_integration(a,b,N,func):\n",
    "    \n",
    "    results = np.array([])\n",
    "    \n",
    "    for i in range(N):\n",
    "        # getting a list of the random t values\n",
    "        t_rand = scipy.random.uniform(a,b,N)\n",
    "\n",
    "        # list of evaluating the function at those points\n",
    "        f_sum = sum(func(t_rand))\n",
    "\n",
    "        # finishing the calculation\n",
    "        result = f_sum / N * (b - a)\n",
    "        \n",
    "        new_results = np.append(results,result)\n",
    "        results = new_results\n",
    "    \n",
    "    #print(results)\n",
    "    \n",
    "    # getting ready to plot the function\n",
    "    plt.xlabel(\"Areas\")\n",
    "    plt.ylabel(\"Frequency\")\n",
    "    plt.hist(results,bins = 20, ec = 'black')\n",
    "    plt.grid()\n",
    "    plt.show()"
   ]
  },
  {
   "cell_type": "code",
   "execution_count": 68,
   "metadata": {},
   "outputs": [
    {
     "data": {
      "image/png": "[encoded data removed]",
      "text/plain": [
       "<Figure size 432x288 with 1 Axes>"
      ]
     },
     "metadata": {
      "needs_background": "light"
     },
     "output_type": "display_data"
    }
   ],
   "source": [
    "monte_carlo_integration(a,b,N,fn)"
   ]
  },
  {
   "cell_type": "code",
   "execution_count": 69,
   "metadata": {},
   "outputs": [
    {
     "data": {
      "image/png": "[encoded data removed]",
      "text/plain": [
       "<Figure size 432x288 with 1 Axes>"
      ]
     },
     "metadata": {
      "needs_background": "light"
     },
     "output_type": "display_data"
    }
   ],
   "source": [
    "monte_carlo_integration(a,b,10000,fn)"
   ]
  },
  {
   "cell_type": "markdown",
   "metadata": {},
   "source": [
    "As you can see from the above distributions, as we increase the number of iterations, the distribution gets tighter and thinner. As we increase N ad infinitum, we would expect the shape of the distribution to approach a Dirac-Delta function $ \\delta (t - 1) $  - centred around 1\n",
    "\n",
    "You could increase $N$ further to test this, but please note that it will take longer to run so be patient - this algorithm has a time complexity $ O (N ^ 2 ) $"
   ]
  },
  {
   "cell_type": "code",
   "execution_count": null,
   "metadata": {},
   "outputs": [],
   "source": []
  }
 ],
 "metadata": {
  "kernelspec": {
   "display_name": "Python 3",
   "language": "python",
   "name": "python3"
  },
  "language_info": {
   "codemirror_mode": {
    "name": "ipython",
    "version": 3
   },
   "file_extension": ".py",
   "mimetype": "text/x-python",
   "name": "python",
   "nbconvert_exporter": "python",
   "pygments_lexer": "ipython3",
   "version": "3.7.3"
  }
 },
 "nbformat": 4,
 "nbformat_minor": 2
}
